{
 "cells": [
  {
   "cell_type": "code",
   "execution_count": 105,
   "metadata": {
    "collapsed": false
   },
   "outputs": [],
   "source": [
    "#!/usr/bin/python\n",
    "# -*- coding: utf-8 -*-\n",
    "\n",
    "import requests\n",
    "import re\n",
    "import sys\n",
    "import json\n",
    "import xlsxwriter\n",
    "from bs4 import BeautifulSoup\n",
    "\n",
    "head={\n",
    "    'User-Agent':'Mozilla/5.0 (Windows NT 10.0; WOW64) AppleWebKit/537.36 (KHTML, like Gecko) Chrome/47.0.2526.80 Safari/537.36',\n",
    "    'Cookie':'_ts_id=34043601330336053502; _ga=GA1.3.2144250439.1440184992',\n",
    "    'Referer':'http://mybid.ruten.com.tw/credit/point?pigfish0119&sell&all&3'\n",
    "}\n",
    "\n",
    "##檢查帳號是否存在##\n",
    "def userIDcheck(userID, header):\n",
    "    checkURL = requests.get(\"http://mybid.ruten.com.tw/credit/point?\"+userID+\"&sell&all\" , headers = head)\n",
    "    checkSoup = BeautifulSoup(checkURL.text)\n",
    "    check=True\n",
    "    for item in checkSoup.findAll(\"input\", {'name': 'ms'}):\n",
    "        if item:\n",
    "            check = False\n",
    "            print u\"使用者帳號不存在\".encode(type)\n",
    "            print u\"######################################\".encode(type)\n",
    "            end = raw_input(u'按任意鍵結束'.encode(type))\n",
    "    return check\n",
    "\n",
    "##檢查帳號是否有評價(評價幾筆)##\n",
    "def pagecount(userID, header):\n",
    "    res = requests.get(\"http://mybid.ruten.com.tw/credit/point?\"+userID+\"&sell&all\" , headers = head)\n",
    "    soup = BeautifulSoup(res.text)\n",
    "    for item in soup.select('#table69'):\n",
    "        if int(item.select('td')[4].text)<=0:\n",
    "            print u\"該帳號沒有賣出商品的評價\".encode(type)\n",
    "            print u\"######################################\".encode(type)\n",
    "            end = raw_input(u'按任意鍵結束'.encode(type))\n",
    "            return False\n",
    "        else:\n",
    "            return (int(item.select('td')[4].text)/20)+1\n",
    "########################################################################\n",
    "type = sys.getfilesystemencoding()\n",
    "print u\"露天拍賣爬蟲 Python x DennyChen\".encode(type)\n",
    "userID = raw_input(u\"請輸入賣家帳號:\".encode(type))\n",
    "print u\"######################################\".encode(type)\n",
    "if userIDcheck(userID,head):\n",
    "    if pagecount(userID,head):\n",
    "        print u\"ing...\".encode(type)\n",
    "        print u\"######################################\".encode(type)\n",
    "        workbook = xlsxwriter.Workbook(userID+'.csv')\n",
    "        worksheet = workbook.add_worksheet('Hyperlinks')\n",
    "        n=0\n",
    "        for i in range(pagecount(userID,head)):\n",
    "            url = \"http://mybid.ruten.com.tw/credit/point?\"+userID+\"&sell&all&\" + unicode(i)\n",
    "            res = requests.get(url, headers = head)\n",
    "            result = re.search('var f_list={\"OrderList\":(.*)?};',res.text)\n",
    "            #print m.group(1)\n",
    "            regex = re.compile(r'\\\\(?![/u\"])')\n",
    "            result_data = regex.sub(r\"\\\\\\\\\", result.group(1))\n",
    "            data = json.loads(result_data)\n",
    "            #print data\n",
    "            for jdata in data:\n",
    "                if not jdata['user']:\n",
    "                    jdata['user'] = (\"不公開\").decode('utf-8')\n",
    "                str = jdata['user'] + ',' + jdata['date'] + ',' + jdata['name'].encode('latin1', 'ignore').decode('big5') + ',' + jdata['money'].encode('latin1', 'ignore').decode('big5')\n",
    "                #print str\n",
    "                worksheet.write(n,0,str)\n",
    "                n+=1\n",
    "        workbook.close()\n",
    "        print u\"爬蟲完畢....請查看目錄底下\".encode(type)\n",
    "        print u\"######################################\".encode(type)\n",
    "        end = raw_input(u'按任意鍵結束'.encode(type))"
   ]
  },
  {
   "cell_type": "code",
   "execution_count": 79,
   "metadata": {
    "collapsed": false,
    "scrolled": true
   },
   "outputs": [
    {
     "name": "stdout",
     "output_type": "stream",
     "text": [
      "False\n"
     ]
    }
   ],
   "source": [
    "import requests\n",
    "import re\n",
    "import json\n",
    "import xlsxwriter\n",
    "from bs4 import BeautifulSoup\n",
    "\n",
    "head={\n",
    "    'User-Agent':'Mozilla/5.0 (Windows NT 10.0; WOW64) AppleWebKit/537.36 (KHTML, like Gecko) Chrome/47.0.2526.80 Safari/537.36',\n",
    "    'Cookie':'_ts_id=34043601330336053502; _ga=GA1.3.2144250439.1440184992',\n",
    "    'Referer':'http://mybid.ruten.com.tw/credit/point?pigfish0119&sell&all&3'\n",
    "}\n",
    "\n",
    "def userIDcheck(userID, header):\n",
    "    res = requests.get(\"http://mybid.ruten.com.tw/credit/point?\"+userID+\"&sell&all\" , headers = head)\n",
    "    soup = BeautifulSoup(res.text)\n",
    "    page=True\n",
    "    for item in soup.findAll(\"input\", {'name': 'ms'}):\n",
    "        if item:\n",
    "            page = False        \n",
    "    return page\n",
    "\n",
    "print pagecount(\"stu872311\",head)"
   ]
  },
  {
   "cell_type": "code",
   "execution_count": null,
   "metadata": {
    "collapsed": false
   },
   "outputs": [],
   "source": []
  },
  {
   "cell_type": "code",
   "execution_count": null,
   "metadata": {
    "collapsed": true
   },
   "outputs": [],
   "source": []
  }
 ],
 "metadata": {
  "kernelspec": {
   "display_name": "Python 2",
   "language": "python",
   "name": "python2"
  },
  "language_info": {
   "codemirror_mode": {
    "name": "ipython",
    "version": 2
   },
   "file_extension": ".py",
   "mimetype": "text/x-python",
   "name": "python",
   "nbconvert_exporter": "python",
   "pygments_lexer": "ipython2",
   "version": "2.7.10"
  }
 },
 "nbformat": 4,
 "nbformat_minor": 0
}
